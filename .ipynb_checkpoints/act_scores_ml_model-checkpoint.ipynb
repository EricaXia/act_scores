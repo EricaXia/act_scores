{
 "cells": [
  {
   "cell_type": "markdown",
   "metadata": {},
   "source": [
    "## Modeling and Prediction of Average ACT Scores\n",
    "- Multivariate Linear regression\n",
    "- Random Forest (Decision Trees)"
   ]
  },
  {
   "cell_type": "code",
   "execution_count": 184,
   "metadata": {},
   "outputs": [],
   "source": [
    "import numpy as np\n",
    "import pandas as pd\n",
    "import matplotlib.pyplot as plt\n",
    "import seaborn as sns\n",
    "%matplotlib inline"
   ]
  },
  {
   "cell_type": "code",
   "execution_count": 185,
   "metadata": {},
   "outputs": [],
   "source": [
    "# two different lin reg packages to try\n",
    "import statsmodels.api as sm\n",
    "from sklearn import linear_model\n",
    "from sklearn.model_selection import train_test_split"
   ]
  },
  {
   "cell_type": "code",
   "execution_count": 186,
   "metadata": {},
   "outputs": [],
   "source": [
    "file = pd.read_csv('data/act_df.csv', index_col=0 )"
   ]
  },
  {
   "cell_type": "code",
   "execution_count": 187,
   "metadata": {},
   "outputs": [],
   "source": [
    "scores = file[['School Name', 'AvgScrTotal', 'Enrollment \\r\\n(K-12)', 'Dropout (Rate)', 'Percent (%) \\r\\nEligible FRPM \\r\\n(K-12)', 'Percent (%) \\r\\nEligible Free \\r\\n(K-12)', 'Regular HS Diploma Graduates (Rate)', 'Free Meal \\r\\nCount \\r\\n(K-12)', 'Golden State Seal Merit Diploma (Rate', 'Met UC/CSU Grad Req\\'s (Rate)']]\n",
    "scores = scores.dropna()"
   ]
  },
  {
   "cell_type": "code",
   "execution_count": 188,
   "metadata": {},
   "outputs": [
    {
     "data": {
      "text/plain": [
       "(879, 10)"
      ]
     },
     "execution_count": 188,
     "metadata": {},
     "output_type": "execute_result"
    }
   ],
   "source": [
    "scores.shape"
   ]
  },
  {
   "cell_type": "markdown",
   "metadata": {},
   "source": [
    "## Can Linear Regression Predict Scores?"
   ]
  },
  {
   "cell_type": "code",
   "execution_count": 189,
   "metadata": {},
   "outputs": [],
   "source": [
    "X = scores[['Enrollment \\r\\n(K-12)', 'Dropout (Rate)', 'Percent (%) \\r\\nEligible FRPM \\r\\n(K-12)', 'Percent (%) \\r\\nEligible Free \\r\\n(K-12)', 'Regular HS Diploma Graduates (Rate)', 'Free Meal \\r\\nCount \\r\\n(K-12)', 'Golden State Seal Merit Diploma (Rate', 'Met UC/CSU Grad Req\\'s (Rate)']]\n",
    "X = sm.add_constant(X)\n",
    "y = scores['AvgScrTotal']"
   ]
  },
  {
   "cell_type": "code",
   "execution_count": 190,
   "metadata": {},
   "outputs": [],
   "source": [
    "# fit and make model predictions\n",
    "model = sm.OLS(y, X).fit()\n",
    "predictions = model.predict(X)"
   ]
  },
  {
   "cell_type": "code",
   "execution_count": 191,
   "metadata": {},
   "outputs": [
    {
     "data": {
      "text/html": [
       "<table class=\"simpletable\">\n",
       "<caption>OLS Regression Results</caption>\n",
       "<tr>\n",
       "  <th>Dep. Variable:</th>       <td>AvgScrTotal</td>   <th>  R-squared:         </th> <td>   0.764</td> \n",
       "</tr>\n",
       "<tr>\n",
       "  <th>Model:</th>                   <td>OLS</td>       <th>  Adj. R-squared:    </th> <td>   0.761</td> \n",
       "</tr>\n",
       "<tr>\n",
       "  <th>Method:</th>             <td>Least Squares</td>  <th>  F-statistic:       </th> <td>   351.1</td> \n",
       "</tr>\n",
       "<tr>\n",
       "  <th>Date:</th>             <td>Tue, 11 Jun 2019</td> <th>  Prob (F-statistic):</th> <td>2.54e-266</td>\n",
       "</tr>\n",
       "<tr>\n",
       "  <th>Time:</th>                 <td>22:54:47</td>     <th>  Log-Likelihood:    </th> <td> -1684.2</td> \n",
       "</tr>\n",
       "<tr>\n",
       "  <th>No. Observations:</th>      <td>   879</td>      <th>  AIC:               </th> <td>   3386.</td> \n",
       "</tr>\n",
       "<tr>\n",
       "  <th>Df Residuals:</th>          <td>   870</td>      <th>  BIC:               </th> <td>   3429.</td> \n",
       "</tr>\n",
       "<tr>\n",
       "  <th>Df Model:</th>              <td>     8</td>      <th>                     </th>     <td> </td>    \n",
       "</tr>\n",
       "<tr>\n",
       "  <th>Covariance Type:</th>      <td>nonrobust</td>    <th>                     </th>     <td> </td>    \n",
       "</tr>\n",
       "</table>\n",
       "<table class=\"simpletable\">\n",
       "<tr>\n",
       "                    <td></td>                       <th>coef</th>     <th>std err</th>      <th>t</th>      <th>P>|t|</th>  <th>[0.025</th>    <th>0.975]</th>  \n",
       "</tr>\n",
       "<tr>\n",
       "  <th>const</th>                                 <td>   23.1207</td> <td>    1.830</td> <td>   12.637</td> <td> 0.000</td> <td>   19.530</td> <td>   26.712</td>\n",
       "</tr>\n",
       "<tr>\n",
       "  <th>Enrollment \r\n",
       "(K-12)</th>                   <td>   -0.0001</td> <td>    0.000</td> <td>   -0.604</td> <td> 0.546</td> <td>   -0.000</td> <td>    0.000</td>\n",
       "</tr>\n",
       "<tr>\n",
       "  <th>Dropout (Rate)</th>                        <td>   -0.0098</td> <td>    0.029</td> <td>   -0.343</td> <td> 0.731</td> <td>   -0.066</td> <td>    0.046</td>\n",
       "</tr>\n",
       "<tr>\n",
       "  <th>Percent (%) \r\n",
       "Eligible FRPM \r\n",
       "(K-12)</th>  <td>  -11.6488</td> <td>    1.591</td> <td>   -7.322</td> <td> 0.000</td> <td>  -14.771</td> <td>   -8.526</td>\n",
       "</tr>\n",
       "<tr>\n",
       "  <th>Percent (%) \r\n",
       "Eligible Free \r\n",
       "(K-12)</th>  <td>   -0.2975</td> <td>    1.722</td> <td>   -0.173</td> <td> 0.863</td> <td>   -3.677</td> <td>    3.082</td>\n",
       "</tr>\n",
       "<tr>\n",
       "  <th>Regular HS Diploma Graduates (Rate)</th>   <td>    0.0422</td> <td>    0.018</td> <td>    2.294</td> <td> 0.022</td> <td>    0.006</td> <td>    0.078</td>\n",
       "</tr>\n",
       "<tr>\n",
       "  <th>Free Meal \r\n",
       "Count \r\n",
       "(K-12)</th>            <td>    0.0011</td> <td>    0.000</td> <td>    3.554</td> <td> 0.000</td> <td>    0.000</td> <td>    0.002</td>\n",
       "</tr>\n",
       "<tr>\n",
       "  <th>Golden State Seal Merit Diploma (Rate</th> <td>    0.0103</td> <td>    0.003</td> <td>    3.295</td> <td> 0.001</td> <td>    0.004</td> <td>    0.016</td>\n",
       "</tr>\n",
       "<tr>\n",
       "  <th>Met UC/CSU Grad Req's (Rate)</th>          <td>    0.0054</td> <td>    0.003</td> <td>    1.745</td> <td> 0.081</td> <td>   -0.001</td> <td>    0.011</td>\n",
       "</tr>\n",
       "</table>\n",
       "<table class=\"simpletable\">\n",
       "<tr>\n",
       "  <th>Omnibus:</th>       <td>12.779</td> <th>  Durbin-Watson:     </th> <td>   1.588</td>\n",
       "</tr>\n",
       "<tr>\n",
       "  <th>Prob(Omnibus):</th> <td> 0.002</td> <th>  Jarque-Bera (JB):  </th> <td>  15.185</td>\n",
       "</tr>\n",
       "<tr>\n",
       "  <th>Skew:</th>          <td> 0.203</td> <th>  Prob(JB):          </th> <td>0.000504</td>\n",
       "</tr>\n",
       "<tr>\n",
       "  <th>Kurtosis:</th>      <td> 3.499</td> <th>  Cond. No.          </th> <td>8.50e+04</td>\n",
       "</tr>\n",
       "</table><br/><br/>Warnings:<br/>[1] Standard Errors assume that the covariance matrix of the errors is correctly specified.<br/>[2] The condition number is large, 8.5e+04. This might indicate that there are<br/>strong multicollinearity or other numerical problems."
      ],
      "text/plain": [
       "<class 'statsmodels.iolib.summary.Summary'>\n",
       "\"\"\"\n",
       "                            OLS Regression Results                            \n",
       "==============================================================================\n",
       "Dep. Variable:            AvgScrTotal   R-squared:                       0.764\n",
       "Model:                            OLS   Adj. R-squared:                  0.761\n",
       "Method:                 Least Squares   F-statistic:                     351.1\n",
       "Date:                Tue, 11 Jun 2019   Prob (F-statistic):          2.54e-266\n",
       "Time:                        22:54:47   Log-Likelihood:                -1684.2\n",
       "No. Observations:                 879   AIC:                             3386.\n",
       "Df Residuals:                     870   BIC:                             3429.\n",
       "Df Model:                           8                                         \n",
       "Covariance Type:            nonrobust                                         \n",
       "=========================================================================================================\n",
       "                                            coef    std err          t      P>|t|      [0.025      0.975]\n",
       "---------------------------------------------------------------------------------------------------------\n",
       "const                                    23.1207      1.830     12.637      0.000      19.530      26.712\n",
       "Enrollment \n",
       "(K-12)                      -0.0001      0.000     -0.604      0.546      -0.000       0.000\n",
       "Dropout (Rate)                           -0.0098      0.029     -0.343      0.731      -0.066       0.046\n",
       "Percent (%) \n",
       "Eligible FRPM \n",
       "(K-12)    -11.6488      1.591     -7.322      0.000     -14.771      -8.526\n",
       "Percent (%) \n",
       "Eligible Free \n",
       "(K-12)     -0.2975      1.722     -0.173      0.863      -3.677       3.082\n",
       "Regular HS Diploma Graduates (Rate)       0.0422      0.018      2.294      0.022       0.006       0.078\n",
       "Free Meal \n",
       "Count \n",
       "(K-12)                0.0011      0.000      3.554      0.000       0.000       0.002\n",
       "Golden State Seal Merit Diploma (Rate     0.0103      0.003      3.295      0.001       0.004       0.016\n",
       "Met UC/CSU Grad Req's (Rate)              0.0054      0.003      1.745      0.081      -0.001       0.011\n",
       "==============================================================================\n",
       "Omnibus:                       12.779   Durbin-Watson:                   1.588\n",
       "Prob(Omnibus):                  0.002   Jarque-Bera (JB):               15.185\n",
       "Skew:                           0.203   Prob(JB):                     0.000504\n",
       "Kurtosis:                       3.499   Cond. No.                     8.50e+04\n",
       "==============================================================================\n",
       "\n",
       "Warnings:\n",
       "[1] Standard Errors assume that the covariance matrix of the errors is correctly specified.\n",
       "[2] The condition number is large, 8.5e+04. This might indicate that there are\n",
       "strong multicollinearity or other numerical problems.\n",
       "\"\"\""
      ]
     },
     "execution_count": 191,
     "metadata": {},
     "output_type": "execute_result"
    }
   ],
   "source": [
    "model.summary()"
   ]
  },
  {
   "cell_type": "markdown",
   "metadata": {},
   "source": [
    "### Analysis\n",
    "~75% R-squared value means this model captures about 75% of the variance in y, the average ACT composite score.\n",
    "<br>\n",
    "The high F-statistic and small p-value means at least some of the regression parameters are significant (and nonzero). The ACT score is determined at least in some respect by the explanatory variables."
   ]
  },
  {
   "cell_type": "code",
   "execution_count": null,
   "metadata": {},
   "outputs": [],
   "source": []
  },
  {
   "cell_type": "markdown",
   "metadata": {},
   "source": [
    "## Let's try sklearn Linear Regression module, this time splitting the data into training and testing sets:"
   ]
  },
  {
   "cell_type": "code",
   "execution_count": 192,
   "metadata": {},
   "outputs": [],
   "source": [
    "X_train, X_test, y_train, y_test = train_test_split(X, y, test_size=0.2)"
   ]
  },
  {
   "cell_type": "code",
   "execution_count": 193,
   "metadata": {},
   "outputs": [
    {
     "data": {
      "text/plain": [
       "((703, 9), (176, 9), (703,), (176,))"
      ]
     },
     "execution_count": 193,
     "metadata": {},
     "output_type": "execute_result"
    }
   ],
   "source": [
    "X_train.shape, X_test.shape, y_train.shape, y_test.shape"
   ]
  },
  {
   "cell_type": "code",
   "execution_count": 194,
   "metadata": {},
   "outputs": [],
   "source": [
    "lm = linear_model.LinearRegression() # fit model on training data\n",
    "model = lm.fit(X_train, y_train)"
   ]
  },
  {
   "cell_type": "code",
   "execution_count": 195,
   "metadata": {},
   "outputs": [
    {
     "name": "stdout",
     "output_type": "stream",
     "text": [
      "Model Coefficients: [ 0.00000000e+00 -5.45712240e-05 -2.57883662e-02 -1.18596903e+01\n",
      "  1.89658895e-01  4.52853867e-02  9.66575006e-04  1.07339287e-02\n",
      "  4.29154845e-03]\n"
     ]
    }
   ],
   "source": [
    "print('Model Coefficients:', lm.coef_)"
   ]
  },
  {
   "cell_type": "code",
   "execution_count": 196,
   "metadata": {},
   "outputs": [
    {
     "name": "stdout",
     "output_type": "stream",
     "text": [
      "[23.13133187 17.59786296 24.32354149 17.83855734 23.28021314 20.17448457\n",
      " 19.83426789 25.68459523 23.91108843 20.91427783 19.82858682 18.45200665\n",
      " 18.50838757 22.38675928 19.22128236]\n"
     ]
    }
   ],
   "source": [
    "# predict scores for the test set\n",
    "predictions = lm.predict(X_test) # predict on test data\n",
    "print(predictions[0:15])"
   ]
  },
  {
   "cell_type": "code",
   "execution_count": 197,
   "metadata": {},
   "outputs": [
    {
     "data": {
      "image/png": "[encoded data removed]",
      "text/plain": [
       "<Figure size 432x288 with 1 Axes>"
      ]
     },
     "metadata": {
      "needs_background": "light"
     },
     "output_type": "display_data"
    }
   ],
   "source": [
    "# Plot the predictions\n",
    "plt.scatter(y_test, predictions)\n",
    "plt.xlabel('ACT Score')\n",
    "plt.ylabel('Predicted ACT Score')\n",
    "plt.title('Actual ACT Scores vs Predicted ACT Scores by School')\n",
    "plt.savefig('actualvpredicted.png')"
   ]
  },
  {
   "cell_type": "code",
   "execution_count": 198,
   "metadata": {},
   "outputs": [
    {
     "name": "stdout",
     "output_type": "stream",
     "text": [
      "Accuracy: 75.06 %\n"
     ]
    }
   ],
   "source": [
    "print (\"Accuracy:\", round(100*model.score(X_test, y_test), 2), '%')"
   ]
  },
  {
   "cell_type": "markdown",
   "metadata": {},
   "source": [
    "The accuracy rate of the linear regression model is approx. 75%"
   ]
  },
  {
   "cell_type": "code",
   "execution_count": 199,
   "metadata": {},
   "outputs": [
    {
     "name": "stdout",
     "output_type": "stream",
     "text": [
      "Mean Squared Error: 2.7351552230315885\n"
     ]
    }
   ],
   "source": [
    "# mean squared error to evaluate model\n",
    "mse = np.mean(np.square(y_test - predictions))\n",
    "print('Mean Squared Error:', mse)"
   ]
  },
  {
   "cell_type": "code",
   "execution_count": 200,
   "metadata": {},
   "outputs": [
    {
     "data": {
      "image/png": "[encoded data removed]",
      "text/plain": [
       "<Figure size 432x288 with 1 Axes>"
      ]
     },
     "metadata": {
      "needs_background": "light"
     },
     "output_type": "display_data"
    }
   ],
   "source": [
    "from yellowbrick.regressor import ResidualsPlot\n",
    "visualizer = ResidualsPlot(lm, hist=False)\n",
    "visualizer.fit(X_train, y_train)\n",
    "visualizer.score(X_test, y_test)\n",
    "visualizer.poof()"
   ]
  },
  {
   "cell_type": "markdown",
   "metadata": {},
   "source": [
    "## Can a Random Forest Regressor Predict Scores?"
   ]
  },
  {
   "cell_type": "code",
   "execution_count": 201,
   "metadata": {},
   "outputs": [],
   "source": [
    "from sklearn.ensemble import RandomForestRegressor\n",
    "\n",
    "# Instantiate model with 1000 decision trees\n",
    "rf = RandomForestRegressor(n_estimators = 1000, random_state = 42)"
   ]
  },
  {
   "cell_type": "code",
   "execution_count": 202,
   "metadata": {},
   "outputs": [
    {
     "name": "stdout",
     "output_type": "stream",
     "text": [
      "(615, 8) (264, 8) (615,) (264,)\n"
     ]
    }
   ],
   "source": [
    "X = scores[['Enrollment \\r\\n(K-12)', 'Dropout (Rate)', 'Percent (%) \\r\\nEligible FRPM \\r\\n(K-12)', 'Percent (%) \\r\\nEligible Free \\r\\n(K-12)', 'Regular HS Diploma Graduates (Rate)', 'Free Meal \\r\\nCount \\r\\n(K-12)', 'Golden State Seal Merit Diploma (Rate', 'Met UC/CSU Grad Req\\'s (Rate)']]\n",
    "\n",
    "y = scores['AvgScrTotal']\n",
    "\n",
    "X_train, X_test, y_train, y_test = train_test_split(X, y, test_size=0.3) # 70% training and 30% test\n",
    "print(X_train.shape, X_test.shape, y_train.shape, y_test.shape)"
   ]
  },
  {
   "cell_type": "code",
   "execution_count": 203,
   "metadata": {},
   "outputs": [
    {
     "data": {
      "text/plain": [
       "RandomForestRegressor(bootstrap=True, criterion='mse', max_depth=None,\n",
       "           max_features='auto', max_leaf_nodes=None,\n",
       "           min_impurity_decrease=0.0, min_impurity_split=None,\n",
       "           min_samples_leaf=1, min_samples_split=2,\n",
       "           min_weight_fraction_leaf=0.0, n_estimators=1000, n_jobs=None,\n",
       "           oob_score=False, random_state=42, verbose=0, warm_start=False)"
      ]
     },
     "execution_count": 203,
     "metadata": {},
     "output_type": "execute_result"
    }
   ],
   "source": [
    "# Train the model on training data\n",
    "rf.fit(X_train, y_train)"
   ]
  },
  {
   "cell_type": "code",
   "execution_count": 204,
   "metadata": {},
   "outputs": [
    {
     "name": "stdout",
     "output_type": "stream",
     "text": [
      "Mean Absolute Error: 1.31 degrees.\n"
     ]
    }
   ],
   "source": [
    "# Use the forest's predict method on the test data\n",
    "predictions = rf.predict(X_test)\n",
    "\n",
    "errors = abs(predictions - y_test) # calculate the absolute errors\n",
    "\n",
    "print('Mean Absolute Error:', round(np.mean(errors), 2), 'degrees.')"
   ]
  },
  {
   "cell_type": "code",
   "execution_count": 205,
   "metadata": {},
   "outputs": [
    {
     "name": "stdout",
     "output_type": "stream",
     "text": [
      "Accuracy: 93.95 %\n"
     ]
    }
   ],
   "source": [
    "# Calculate mean absolute percentage error (MAPE)\n",
    "mape = 100 * (errors / y_test)\n",
    "\n",
    "# Calculate and display accuracy\n",
    "accuracy = 100 - np.mean(mape)\n",
    "print('Accuracy:', round(accuracy, 2), '%')"
   ]
  },
  {
   "cell_type": "markdown",
   "metadata": {},
   "source": [
    "### A Random Forest Regressor performs better than Linear Regression with accuracy rate of about 93-94%.\n",
    "\n",
    "<br>\n",
    "Visualization of the results:"
   ]
  },
  {
   "cell_type": "code",
   "execution_count": 206,
   "metadata": {},
   "outputs": [
    {
     "data": {
      "text/plain": [
       "Text(0.5, 1.0, 'Random Forest Results: Actual vs Predicted ACT Scores')"
      ]
     },
     "execution_count": 206,
     "metadata": {},
     "output_type": "execute_result"
    },
    {
     "data": {
      "image/png": "[encoded data removed]",
      "text/plain": [
       "<Figure size 432x288 with 1 Axes>"
      ]
     },
     "metadata": {
      "needs_background": "light"
     },
     "output_type": "display_data"
    }
   ],
   "source": [
    "plt.scatter(y_test, predictions)\n",
    "plt.xlabel('ACT Score')\n",
    "plt.ylabel('Predicted ACT Score')\n",
    "plt.title('Random Forest Results: Actual vs Predicted ACT Scores')"
   ]
  },
  {
   "cell_type": "code",
   "execution_count": 207,
   "metadata": {},
   "outputs": [
    {
     "data": {
      "image/png": "[encoded data removed]",
      "text/plain": [
       "<Figure size 432x288 with 1 Axes>"
      ]
     },
     "metadata": {
      "needs_background": "light"
     },
     "output_type": "display_data"
    }
   ],
   "source": [
    "visualizer = ResidualsPlot(rf, hist=False)\n",
    "visualizer.fit(X_train, y_train)\n",
    "visualizer.score(X_test, y_test)\n",
    "visualizer.poof()"
   ]
  },
  {
   "cell_type": "markdown",
   "metadata": {},
   "source": [
    "Let's view feature importance:"
   ]
  },
  {
   "cell_type": "code",
   "execution_count": 208,
   "metadata": {},
   "outputs": [
    {
     "data": {
      "text/html": [
       "<div>\n",
       "<style scoped>\n",
       "    .dataframe tbody tr th:only-of-type {\n",
       "        vertical-align: middle;\n",
       "    }\n",
       "\n",
       "    .dataframe tbody tr th {\n",
       "        vertical-align: top;\n",
       "    }\n",
       "\n",
       "    .dataframe thead th {\n",
       "        text-align: right;\n",
       "    }\n",
       "</style>\n",
       "<table border=\"1\" class=\"dataframe\">\n",
       "  <thead>\n",
       "    <tr style=\"text-align: right;\">\n",
       "      <th></th>\n",
       "      <th>Feature Importance</th>\n",
       "      <th>Feature Name</th>\n",
       "    </tr>\n",
       "  </thead>\n",
       "  <tbody>\n",
       "    <tr>\n",
       "      <th>2</th>\n",
       "      <td>0.625046</td>\n",
       "      <td>Percent (%) Eligible FRPM (K-12)</td>\n",
       "    </tr>\n",
       "    <tr>\n",
       "      <th>3</th>\n",
       "      <td>0.174416</td>\n",
       "      <td>Percent (%) Eligible Free (K-12)</td>\n",
       "    </tr>\n",
       "    <tr>\n",
       "      <th>0</th>\n",
       "      <td>0.041514</td>\n",
       "      <td>Enrollment (K-12)</td>\n",
       "    </tr>\n",
       "    <tr>\n",
       "      <th>7</th>\n",
       "      <td>0.038366</td>\n",
       "      <td>Met UC/CSU Grad Req's (Rate)</td>\n",
       "    </tr>\n",
       "    <tr>\n",
       "      <th>4</th>\n",
       "      <td>0.036986</td>\n",
       "      <td>Regular HS Diploma Graduates (Rate)</td>\n",
       "    </tr>\n",
       "    <tr>\n",
       "      <th>6</th>\n",
       "      <td>0.034008</td>\n",
       "      <td>Golden State Seal Merit Diploma (Rate</td>\n",
       "    </tr>\n",
       "    <tr>\n",
       "      <th>5</th>\n",
       "      <td>0.027906</td>\n",
       "      <td>Free Meal Count (K-12)</td>\n",
       "    </tr>\n",
       "    <tr>\n",
       "      <th>1</th>\n",
       "      <td>0.021759</td>\n",
       "      <td>Dropout (Rate)</td>\n",
       "    </tr>\n",
       "  </tbody>\n",
       "</table>\n",
       "</div>"
      ],
      "text/plain": [
       "   Feature Importance                           Feature Name\n",
       "2            0.625046       Percent (%) Eligible FRPM (K-12)\n",
       "3            0.174416       Percent (%) Eligible Free (K-12)\n",
       "0            0.041514                      Enrollment (K-12)\n",
       "7            0.038366           Met UC/CSU Grad Req's (Rate)\n",
       "4            0.036986    Regular HS Diploma Graduates (Rate)\n",
       "6            0.034008  Golden State Seal Merit Diploma (Rate\n",
       "5            0.027906                 Free Meal Count (K-12)\n",
       "1            0.021759                         Dropout (Rate)"
      ]
     },
     "execution_count": 208,
     "metadata": {},
     "output_type": "execute_result"
    }
   ],
   "source": [
    "features = pd.Series(rf.feature_importances_)\n",
    "cols = pd.Series(X.columns)\n",
    "features_df = pd.concat([features, cols], axis = 1, )\n",
    "features_df.columns = ['Feature Importance', 'Feature Name']\n",
    "features_df['Feature Name'] = features_df['Feature Name'].replace(r'\\r\\n','', regex=True) \n",
    "features_df.sort_values(by = 'Feature Importance', ascending=False)"
   ]
  },
  {
   "cell_type": "code",
   "execution_count": 209,
   "metadata": {},
   "outputs": [
    {
     "data": {
      "text/plain": [
       "<Figure size 1152x432 with 0 Axes>"
      ]
     },
     "execution_count": 209,
     "metadata": {},
     "output_type": "execute_result"
    },
    {
     "data": {
      "image/png": "[encoded data removed]",
      "text/plain": [
       "<Figure size 432x288 with 1 Axes>"
      ]
     },
     "metadata": {
      "needs_background": "light"
     },
     "output_type": "display_data"
    },
    {
     "data": {
      "text/plain": [
       "<Figure size 1152x432 with 0 Axes>"
      ]
     },
     "metadata": {},
     "output_type": "display_data"
    }
   ],
   "source": [
    "import matplotlib.pyplot as plt\n",
    "import seaborn as sns\n",
    "%matplotlib inline\n",
    "\n",
    "sns.barplot(x='Feature Importance', y='Feature Name', data = features_df)\n",
    "\n",
    "plt.xlabel('Feature Importance Score')\n",
    "plt.ylabel('Features')\n",
    "plt.title(\"Important Features oF RF Regressor\")\n",
    "plt.figure(figsize=(16, 6))"
   ]
  },
  {
   "cell_type": "markdown",
   "metadata": {},
   "source": [
    "Looks like the percentage of students eligible for FRPM (and lesser degree, the percentage eligible for free lunch) are the most significant features."
   ]
  },
  {
   "cell_type": "markdown",
   "metadata": {},
   "source": [
    "<br>\n",
    "Next, let's visualize how the r.f. regressor works:"
   ]
  },
  {
   "cell_type": "code",
   "execution_count": 210,
   "metadata": {},
   "outputs": [],
   "source": [
    "# tools for visualization\n",
    "from sklearn.tree import export_graphviz\n",
    "import pydot\n",
    "import os\n",
    "os.environ[\"PATH\"] += os.pathsep + 'C:/Program Files (x86)/Graphviz2.38/bin/'\n",
    "\n",
    "tree = rf.estimators_[5] # Pull out one tree from the forest\n",
    "\n",
    "# Export the image to a dot file\n",
    "feature_list = ['Enrollment \\r\\n(K-12)', 'Dropout (Rate)', 'Percent (%) \\r\\nEligible FRPM \\r\\n(K-12)', 'Percent (%) \\r\\nEligible Free \\r\\n(K-12)', 'Regular HS Diploma Graduates (Rate)', 'Free Meal \\r\\nCount \\r\\n(K-12)', 'Golden State Seal Merit Diploma (Rate', 'Met UC/CSU Grad Req\\'s (Rate)']\n",
    "export_graphviz(tree, out_file = 'tree.dot', feature_names = feature_list, rounded = True, precision = 1)\n"
   ]
  },
  {
   "cell_type": "code",
   "execution_count": 211,
   "metadata": {
    "scrolled": false
   },
   "outputs": [],
   "source": [
    "# Use dot file to create a graph - large png\n",
    "(graph, ) = pydot.graph_from_dot_file('tree.dot')\n",
    "\n",
    "graph.write_png('tree.png')"
   ]
  },
  {
   "cell_type": "code",
   "execution_count": 212,
   "metadata": {},
   "outputs": [],
   "source": [
    "# Limit depth of tree to 3 levels - small png\n",
    "rf_small = RandomForestRegressor(n_estimators=10, max_depth = 3)\n",
    "rf_small.fit(X_train, y_train)\n",
    "\n",
    "tree_small = rf_small.estimators_[5]\n",
    "\n",
    "export_graphviz(tree_small, out_file = 'small_tree.dot', feature_names = feature_list, rounded = True, precision = 1)\n",
    "(graph, ) = pydot.graph_from_dot_file('small_tree.dot')\n",
    "graph.write_png('small_tree.png');"
   ]
  },
  {
   "cell_type": "code",
   "execution_count": null,
   "metadata": {},
   "outputs": [],
   "source": []
  },
  {
   "cell_type": "code",
   "execution_count": 213,
   "metadata": {},
   "outputs": [],
   "source": [
    "# Predictions for all schools\n",
    "predictions = rf.predict(X)"
   ]
  },
  {
   "cell_type": "code",
   "execution_count": 214,
   "metadata": {},
   "outputs": [],
   "source": [
    "results = pd.DataFrame(y)\n",
    "results = results.assign(pred = predictions)\n",
    "merged = file.merge(results, left_index=True, right_index=True, how='inner')"
   ]
  },
  {
   "cell_type": "code",
   "execution_count": 215,
   "metadata": {},
   "outputs": [],
   "source": [
    "merged['error'] = (merged['AvgScrTotal_y'] - merged['pred'])**2"
   ]
  },
  {
   "cell_type": "code",
   "execution_count": 216,
   "metadata": {},
   "outputs": [
    {
     "data": {
      "text/html": [
       "<div>\n",
       "<style scoped>\n",
       "    .dataframe tbody tr th:only-of-type {\n",
       "        vertical-align: middle;\n",
       "    }\n",
       "\n",
       "    .dataframe tbody tr th {\n",
       "        vertical-align: top;\n",
       "    }\n",
       "\n",
       "    .dataframe thead th {\n",
       "        text-align: right;\n",
       "    }\n",
       "</style>\n",
       "<table border=\"1\" class=\"dataframe\">\n",
       "  <thead>\n",
       "    <tr style=\"text-align: right;\">\n",
       "      <th></th>\n",
       "      <th>School Name</th>\n",
       "      <th>dname</th>\n",
       "      <th>cname</th>\n",
       "      <th>enroll12</th>\n",
       "      <th>NumTstTakr</th>\n",
       "      <th>AvgScrEng</th>\n",
       "      <th>AvgScrRead</th>\n",
       "      <th>AvgScrMath</th>\n",
       "      <th>AvgScrSci</th>\n",
       "      <th>AvgScrTotal_x</th>\n",
       "      <th>...</th>\n",
       "      <th>PctGE21.1</th>\n",
       "      <th>Percent (%) \r\n",
       "Eligible FRPM \r\n",
       "(Ages 5-17)</th>\n",
       "      <th>Percent (%) \r\n",
       "Eligible FRPM \r\n",
       "(K-12)</th>\n",
       "      <th>Percent (%) \r\n",
       "Eligible Free \r\n",
       "(Ages 5-17)</th>\n",
       "      <th>Percent (%) \r\n",
       "Eligible Free \r\n",
       "(K-12)</th>\n",
       "      <th>Regular HS Diploma Graduates (Count)</th>\n",
       "      <th>Regular HS Diploma Graduates (Rate)</th>\n",
       "      <th>AvgScrTotal_y</th>\n",
       "      <th>pred</th>\n",
       "      <th>error</th>\n",
       "    </tr>\n",
       "  </thead>\n",
       "  <tbody>\n",
       "    <tr>\n",
       "      <th>140140</th>\n",
       "      <td>Lynbrook High</td>\n",
       "      <td>Fremont Union High</td>\n",
       "      <td>Santa Clara</td>\n",
       "      <td>461</td>\n",
       "      <td>212</td>\n",
       "      <td>32.0</td>\n",
       "      <td>31.0</td>\n",
       "      <td>32.0</td>\n",
       "      <td>31.0</td>\n",
       "      <td>31.50</td>\n",
       "      <td>...</td>\n",
       "      <td>96.70</td>\n",
       "      <td>0.064928</td>\n",
       "      <td>0.069805</td>\n",
       "      <td>0.057159</td>\n",
       "      <td>0.060606</td>\n",
       "      <td>220.0</td>\n",
       "      <td>97.8</td>\n",
       "      <td>31.50</td>\n",
       "      <td>28.55600</td>\n",
       "      <td>8.667136</td>\n",
       "    </tr>\n",
       "    <tr>\n",
       "      <th>12172</th>\n",
       "      <td>Mission San Jose High</td>\n",
       "      <td>Fremont Unified</td>\n",
       "      <td>Alameda</td>\n",
       "      <td>526</td>\n",
       "      <td>210</td>\n",
       "      <td>32.0</td>\n",
       "      <td>31.0</td>\n",
       "      <td>32.0</td>\n",
       "      <td>30.0</td>\n",
       "      <td>31.25</td>\n",
       "      <td>...</td>\n",
       "      <td>97.14</td>\n",
       "      <td>0.057143</td>\n",
       "      <td>0.058590</td>\n",
       "      <td>0.053634</td>\n",
       "      <td>0.054618</td>\n",
       "      <td>242.0</td>\n",
       "      <td>96.8</td>\n",
       "      <td>31.25</td>\n",
       "      <td>30.20800</td>\n",
       "      <td>1.085764</td>\n",
       "    </tr>\n",
       "    <tr>\n",
       "      <th>140200</th>\n",
       "      <td>Monta Vista High</td>\n",
       "      <td>Fremont Union High</td>\n",
       "      <td>Santa Clara</td>\n",
       "      <td>598</td>\n",
       "      <td>306</td>\n",
       "      <td>31.0</td>\n",
       "      <td>30.0</td>\n",
       "      <td>31.0</td>\n",
       "      <td>30.0</td>\n",
       "      <td>30.50</td>\n",
       "      <td>...</td>\n",
       "      <td>96.41</td>\n",
       "      <td>0.043441</td>\n",
       "      <td>0.045148</td>\n",
       "      <td>0.040886</td>\n",
       "      <td>0.042616</td>\n",
       "      <td>292.0</td>\n",
       "      <td>98.6</td>\n",
       "      <td>30.50</td>\n",
       "      <td>29.93850</td>\n",
       "      <td>0.315282</td>\n",
       "    </tr>\n",
       "    <tr>\n",
       "      <th>140500</th>\n",
       "      <td>Saratoga High</td>\n",
       "      <td>Los Gatos-Saratoga Joint Union High</td>\n",
       "      <td>Santa Clara</td>\n",
       "      <td>329</td>\n",
       "      <td>150</td>\n",
       "      <td>31.0</td>\n",
       "      <td>30.0</td>\n",
       "      <td>31.0</td>\n",
       "      <td>30.0</td>\n",
       "      <td>30.50</td>\n",
       "      <td>...</td>\n",
       "      <td>95.33</td>\n",
       "      <td>0.018293</td>\n",
       "      <td>0.019202</td>\n",
       "      <td>0.018293</td>\n",
       "      <td>0.019202</td>\n",
       "      <td>150.0</td>\n",
       "      <td>98.0</td>\n",
       "      <td>30.50</td>\n",
       "      <td>29.55000</td>\n",
       "      <td>0.902500</td>\n",
       "    </tr>\n",
       "    <tr>\n",
       "      <th>50520</th>\n",
       "      <td>Dougherty Valley High</td>\n",
       "      <td>San Ramon Valley Unified</td>\n",
       "      <td>Contra Costa</td>\n",
       "      <td>780</td>\n",
       "      <td>366</td>\n",
       "      <td>31.0</td>\n",
       "      <td>30.0</td>\n",
       "      <td>30.0</td>\n",
       "      <td>29.0</td>\n",
       "      <td>30.00</td>\n",
       "      <td>...</td>\n",
       "      <td>95.63</td>\n",
       "      <td>0.069466</td>\n",
       "      <td>0.069738</td>\n",
       "      <td>0.063467</td>\n",
       "      <td>0.063512</td>\n",
       "      <td>376.0</td>\n",
       "      <td>97.9</td>\n",
       "      <td>30.00</td>\n",
       "      <td>27.09925</td>\n",
       "      <td>8.414351</td>\n",
       "    </tr>\n",
       "    <tr>\n",
       "      <th>101740</th>\n",
       "      <td>Troy High</td>\n",
       "      <td>Fullerton Joint Union High</td>\n",
       "      <td>Orange</td>\n",
       "      <td>693</td>\n",
       "      <td>207</td>\n",
       "      <td>30.0</td>\n",
       "      <td>29.0</td>\n",
       "      <td>30.0</td>\n",
       "      <td>29.0</td>\n",
       "      <td>29.50</td>\n",
       "      <td>...</td>\n",
       "      <td>93.24</td>\n",
       "      <td>0.305021</td>\n",
       "      <td>0.305638</td>\n",
       "      <td>0.252926</td>\n",
       "      <td>0.253709</td>\n",
       "      <td>329.0</td>\n",
       "      <td>97.1</td>\n",
       "      <td>29.50</td>\n",
       "      <td>28.00825</td>\n",
       "      <td>2.225318</td>\n",
       "    </tr>\n",
       "    <tr>\n",
       "      <th>592</th>\n",
       "      <td>Irvington High</td>\n",
       "      <td>Fremont Unified</td>\n",
       "      <td>Alameda</td>\n",
       "      <td>609</td>\n",
       "      <td>189</td>\n",
       "      <td>30.0</td>\n",
       "      <td>29.0</td>\n",
       "      <td>30.0</td>\n",
       "      <td>29.0</td>\n",
       "      <td>29.50</td>\n",
       "      <td>...</td>\n",
       "      <td>92.59</td>\n",
       "      <td>0.151411</td>\n",
       "      <td>0.151695</td>\n",
       "      <td>0.128743</td>\n",
       "      <td>0.129237</td>\n",
       "      <td>273.0</td>\n",
       "      <td>95.8</td>\n",
       "      <td>29.50</td>\n",
       "      <td>28.53400</td>\n",
       "      <td>0.933156</td>\n",
       "    </tr>\n",
       "    <tr>\n",
       "      <th>15444</th>\n",
       "      <td>Piedmont High</td>\n",
       "      <td>Piedmont City Unified</td>\n",
       "      <td>Alameda</td>\n",
       "      <td>188</td>\n",
       "      <td>85</td>\n",
       "      <td>31.0</td>\n",
       "      <td>30.0</td>\n",
       "      <td>28.0</td>\n",
       "      <td>29.0</td>\n",
       "      <td>29.50</td>\n",
       "      <td>...</td>\n",
       "      <td>97.65</td>\n",
       "      <td>0.011364</td>\n",
       "      <td>0.013530</td>\n",
       "      <td>0.011364</td>\n",
       "      <td>0.013530</td>\n",
       "      <td>97.0</td>\n",
       "      <td>100.0</td>\n",
       "      <td>29.50</td>\n",
       "      <td>29.36750</td>\n",
       "      <td>0.017556</td>\n",
       "    </tr>\n",
       "    <tr>\n",
       "      <th>127428</th>\n",
       "      <td>Canyon Crest Academy</td>\n",
       "      <td>San Dieguito Union High</td>\n",
       "      <td>San Diego</td>\n",
       "      <td>601</td>\n",
       "      <td>395</td>\n",
       "      <td>30.0</td>\n",
       "      <td>29.0</td>\n",
       "      <td>29.0</td>\n",
       "      <td>28.0</td>\n",
       "      <td>29.00</td>\n",
       "      <td>...</td>\n",
       "      <td>94.94</td>\n",
       "      <td>0.054718</td>\n",
       "      <td>0.054348</td>\n",
       "      <td>0.049564</td>\n",
       "      <td>0.049301</td>\n",
       "      <td>311.0</td>\n",
       "      <td>99.7</td>\n",
       "      <td>29.00</td>\n",
       "      <td>29.12275</td>\n",
       "      <td>0.015068</td>\n",
       "    </tr>\n",
       "    <tr>\n",
       "      <th>27596</th>\n",
       "      <td>Miramonte High</td>\n",
       "      <td>Acalanes Union High</td>\n",
       "      <td>Contra Costa</td>\n",
       "      <td>338</td>\n",
       "      <td>188</td>\n",
       "      <td>30.0</td>\n",
       "      <td>30.0</td>\n",
       "      <td>28.0</td>\n",
       "      <td>28.0</td>\n",
       "      <td>29.00</td>\n",
       "      <td>...</td>\n",
       "      <td>96.81</td>\n",
       "      <td>0.043580</td>\n",
       "      <td>0.042553</td>\n",
       "      <td>0.042023</td>\n",
       "      <td>0.041033</td>\n",
       "      <td>163.0</td>\n",
       "      <td>97.6</td>\n",
       "      <td>29.00</td>\n",
       "      <td>28.66725</td>\n",
       "      <td>0.110723</td>\n",
       "    </tr>\n",
       "  </tbody>\n",
       "</table>\n",
       "<p>10 rows × 40 columns</p>\n",
       "</div>"
      ],
      "text/plain": [
       "                  School Name                                dname  \\\n",
       "140140          Lynbrook High                   Fremont Union High   \n",
       "12172   Mission San Jose High                      Fremont Unified   \n",
       "140200       Monta Vista High                   Fremont Union High   \n",
       "140500          Saratoga High  Los Gatos-Saratoga Joint Union High   \n",
       "50520   Dougherty Valley High             San Ramon Valley Unified   \n",
       "101740              Troy High           Fullerton Joint Union High   \n",
       "592            Irvington High                      Fremont Unified   \n",
       "15444           Piedmont High                Piedmont City Unified   \n",
       "127428   Canyon Crest Academy              San Dieguito Union High   \n",
       "27596          Miramonte High                  Acalanes Union High   \n",
       "\n",
       "               cname  enroll12  NumTstTakr  AvgScrEng  AvgScrRead  AvgScrMath  \\\n",
       "140140   Santa Clara       461         212       32.0        31.0        32.0   \n",
       "12172        Alameda       526         210       32.0        31.0        32.0   \n",
       "140200   Santa Clara       598         306       31.0        30.0        31.0   \n",
       "140500   Santa Clara       329         150       31.0        30.0        31.0   \n",
       "50520   Contra Costa       780         366       31.0        30.0        30.0   \n",
       "101740        Orange       693         207       30.0        29.0        30.0   \n",
       "592          Alameda       609         189       30.0        29.0        30.0   \n",
       "15444        Alameda       188          85       31.0        30.0        28.0   \n",
       "127428     San Diego       601         395       30.0        29.0        29.0   \n",
       "27596   Contra Costa       338         188       30.0        30.0        28.0   \n",
       "\n",
       "        AvgScrSci  AvgScrTotal_x    ...     PctGE21.1  \\\n",
       "140140       31.0          31.50    ...         96.70   \n",
       "12172        30.0          31.25    ...         97.14   \n",
       "140200       30.0          30.50    ...         96.41   \n",
       "140500       30.0          30.50    ...         95.33   \n",
       "50520        29.0          30.00    ...         95.63   \n",
       "101740       29.0          29.50    ...         93.24   \n",
       "592          29.0          29.50    ...         92.59   \n",
       "15444        29.0          29.50    ...         97.65   \n",
       "127428       28.0          29.00    ...         94.94   \n",
       "27596        28.0          29.00    ...         96.81   \n",
       "\n",
       "        Percent (%) \\r\\nEligible FRPM \\r\\n(Ages 5-17)  \\\n",
       "140140                                       0.064928   \n",
       "12172                                        0.057143   \n",
       "140200                                       0.043441   \n",
       "140500                                       0.018293   \n",
       "50520                                        0.069466   \n",
       "101740                                       0.305021   \n",
       "592                                          0.151411   \n",
       "15444                                        0.011364   \n",
       "127428                                       0.054718   \n",
       "27596                                        0.043580   \n",
       "\n",
       "        Percent (%) \\r\\nEligible FRPM \\r\\n(K-12)  \\\n",
       "140140                                  0.069805   \n",
       "12172                                   0.058590   \n",
       "140200                                  0.045148   \n",
       "140500                                  0.019202   \n",
       "50520                                   0.069738   \n",
       "101740                                  0.305638   \n",
       "592                                     0.151695   \n",
       "15444                                   0.013530   \n",
       "127428                                  0.054348   \n",
       "27596                                   0.042553   \n",
       "\n",
       "        Percent (%) \\r\\nEligible Free \\r\\n(Ages 5-17)  \\\n",
       "140140                                       0.057159   \n",
       "12172                                        0.053634   \n",
       "140200                                       0.040886   \n",
       "140500                                       0.018293   \n",
       "50520                                        0.063467   \n",
       "101740                                       0.252926   \n",
       "592                                          0.128743   \n",
       "15444                                        0.011364   \n",
       "127428                                       0.049564   \n",
       "27596                                        0.042023   \n",
       "\n",
       "        Percent (%) \\r\\nEligible Free \\r\\n(K-12)  \\\n",
       "140140                                  0.060606   \n",
       "12172                                   0.054618   \n",
       "140200                                  0.042616   \n",
       "140500                                  0.019202   \n",
       "50520                                   0.063512   \n",
       "101740                                  0.253709   \n",
       "592                                     0.129237   \n",
       "15444                                   0.013530   \n",
       "127428                                  0.049301   \n",
       "27596                                   0.041033   \n",
       "\n",
       "        Regular HS Diploma Graduates (Count)  \\\n",
       "140140                                 220.0   \n",
       "12172                                  242.0   \n",
       "140200                                 292.0   \n",
       "140500                                 150.0   \n",
       "50520                                  376.0   \n",
       "101740                                 329.0   \n",
       "592                                    273.0   \n",
       "15444                                   97.0   \n",
       "127428                                 311.0   \n",
       "27596                                  163.0   \n",
       "\n",
       "        Regular HS Diploma Graduates (Rate)  AvgScrTotal_y      pred     error  \n",
       "140140                                 97.8          31.50  28.55600  8.667136  \n",
       "12172                                  96.8          31.25  30.20800  1.085764  \n",
       "140200                                 98.6          30.50  29.93850  0.315282  \n",
       "140500                                 98.0          30.50  29.55000  0.902500  \n",
       "50520                                  97.9          30.00  27.09925  8.414351  \n",
       "101740                                 97.1          29.50  28.00825  2.225318  \n",
       "592                                    95.8          29.50  28.53400  0.933156  \n",
       "15444                                 100.0          29.50  29.36750  0.017556  \n",
       "127428                                 99.7          29.00  29.12275  0.015068  \n",
       "27596                                  97.6          29.00  28.66725  0.110723  \n",
       "\n",
       "[10 rows x 40 columns]"
      ]
     },
     "execution_count": 216,
     "metadata": {},
     "output_type": "execute_result"
    }
   ],
   "source": [
    "# show the top 10 schools in CA\n",
    "\n",
    "merged.sort_values(by = 'AvgScrTotal_y', ascending=False).head(10) "
   ]
  },
  {
   "cell_type": "code",
   "execution_count": 217,
   "metadata": {},
   "outputs": [],
   "source": [
    "#merged[merged['NumTstTakr'] >= 200].sort_values(by = 'error', ascending=False).head(10)"
   ]
  },
  {
   "cell_type": "code",
   "execution_count": null,
   "metadata": {},
   "outputs": [],
   "source": []
  }
 ],
 "metadata": {
  "kernelspec": {
   "display_name": "Python 3",
   "language": "python",
   "name": "python3"
  },
  "language_info": {
   "codemirror_mode": {
    "name": "ipython",
    "version": 3
   },
   "file_extension": ".py",
   "mimetype": "text/x-python",
   "name": "python",
   "nbconvert_exporter": "python",
   "pygments_lexer": "ipython3",
   "version": "3.7.1"
  }
 },
 "nbformat": 4,
 "nbformat_minor": 2
}
